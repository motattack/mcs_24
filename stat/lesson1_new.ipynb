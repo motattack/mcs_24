{
 "cells": [
  {
   "cell_type": "markdown",
   "metadata": {},
   "source": [
    " # Распределения, связанные с нормальным"
   ]
  },
  {
   "cell_type": "code",
   "execution_count": 19,
   "metadata": {},
   "outputs": [],
   "source": [
    "import sys\n",
    "import math\n",
    "import pandas as pd\n",
    "import numpy as np\n",
    "import matplotlib.pyplot as plt\n",
    "from scipy.stats import t, chi2, f, norm"
   ]
  },
  {
   "cell_type": "markdown",
   "metadata": {},
   "source": [
    "## 1)Распределение Хи-Квадрат"
   ]
  },
  {
   "cell_type": "markdown",
   "metadata": {},
   "source": [
    "### Информация https://docs.scipy.org/doc/scipy/reference/generated/scipy.stats.chi2.html"
   ]
  },
  {
   "cell_type": "markdown",
   "metadata": {},
   "source": [
    "## Пусть случайная величина X имеет распределение хи-квадрат с 5-ю степенями свободы, то есть X~chi2(5)"
   ]
  },
  {
   "cell_type": "code",
   "execution_count": 20,
   "metadata": {},
   "outputs": [
    {
     "name": "stdout",
     "output_type": "stream",
     "text": [
      "5.0 10.0\n",
      "4.351460191095526 11.070497693516351\n"
     ]
    }
   ],
   "source": [
    "k = 5                                                # число степеней свободы (degrees of freedom)\n",
    "chi2.cdf(0.7, df = k)                                # F(0.7) = P(X <= 0.7)    - функция распределения в точке 0.7\n",
    "chi2.pdf(0.7, df = k)                                # f(0.7) = F'(0.7)        - функция плотности в точке 0.7\n",
    "chi2.mean(df = k)                                    # E(X)                    - математическое ожидание X\n",
    "chi2.var(df = k)                                     # Var(X)                  - дисперсия X\n",
    "chi2.median(df = k)                                  # Median(X)               - медиана X \n",
    "chi2.ppf(q = 0.95, df = k)                            # q: P(X < q) = 0.6       - квантиль уровня 0.6 с.в. X\n",
    "#chi2.rvs(size = 1000, df = 5)                         #                         - выборка объема 1000 из X\n",
    "print(chi2.mean(df = k),chi2.var(df = k))\n",
    "print(chi2.median(df = k) ,chi2.ppf(q = 0.95, df = k))"
   ]
  },
  {
   "cell_type": "markdown",
   "metadata": {},
   "source": [
    "## График функции плотности и  функции распределения"
   ]
  },
  {
   "cell_type": "code",
   "execution_count": 33,
   "metadata": {},
   "outputs": [
    {
     "data": {
      "image/png": "[encoded data removed]",
      "text/plain": [
       "<Figure size 432x288 with 1 Axes>"
      ]
     },
     "metadata": {
      "needs_background": "light"
     },
     "output_type": "display_data"
    },
    {
     "data": {
      "text/plain": [
       "array([ 0.        ,  0.20722228,  0.41444456,  0.62166684,  0.82888912,\n",
       "        1.0361114 ,  1.24333368,  1.45055596,  1.65777823,  1.86500051,\n",
       "        2.07222279,  2.27944507,  2.48666735,  2.69388963,  2.90111191,\n",
       "        3.10833419,  3.31555647,  3.52277875,  3.73000103,  3.93722331,\n",
       "        4.14444559,  4.35166787,  4.55889014,  4.76611242,  4.9733347 ,\n",
       "        5.18055698,  5.38777926,  5.59500154,  5.80222382,  6.0094461 ,\n",
       "        6.21666838,  6.42389066,  6.63111294,  6.83833522,  7.0455575 ,\n",
       "        7.25277978,  7.46000206,  7.66722433,  7.87444661,  8.08166889,\n",
       "        8.28889117,  8.49611345,  8.70333573,  8.91055801,  9.11778029,\n",
       "        9.32500257,  9.53222485,  9.73944713,  9.94666941, 10.15389169,\n",
       "       10.36111397, 10.56833625, 10.77555852, 10.9827808 , 11.19000308,\n",
       "       11.39722536, 11.60444764, 11.81166992, 12.0188922 , 12.22611448,\n",
       "       12.43333676, 12.64055904, 12.84778132, 13.0550036 , 13.26222588,\n",
       "       13.46944816, 13.67667043, 13.88389271, 14.09111499, 14.29833727,\n",
       "       14.50555955, 14.71278183, 14.92000411, 15.12722639, 15.33444867,\n",
       "       15.54167095, 15.74889323, 15.95611551, 16.16333779, 16.37056007,\n",
       "       16.57778235, 16.78500462, 16.9922269 , 17.19944918, 17.40667146,\n",
       "       17.61389374, 17.82111602, 18.0283383 , 18.23556058, 18.44278286,\n",
       "       18.65000514, 18.85722742, 19.0644497 , 19.27167198, 19.47889426,\n",
       "       19.68611654, 19.89333881, 20.10056109, 20.30778337, 20.51500565])"
      ]
     },
     "execution_count": 33,
     "metadata": {},
     "output_type": "execute_result"
    }
   ],
   "source": [
    "k=5\n",
    "x = np.linspace(0, chi2.ppf(q = 0.999, df = k), 100)\n",
    "#x= np.arange(0, chi2.ppf(q = 0.99, df = k), 1.0)\n",
    "f_x = chi2.pdf(x, df = k)                            # значение функции плотности в соответствующих точках\n",
    "F_x = chi2.cdf(x, df = k)                            # значение функции распределения в соответствующих точках\n",
    "plt.xlabel('x')                                       # название нижней оси графика\n",
    "plt.ylabel('f(x),F(x)')                                 # название верхней оси графика\n",
    "plt.plot(x,f_x)                                         # график функции плотности \n",
    "plt.plot(x,F_x)                                          # график функции распределения           \n",
    "plt.show();\n",
    "chi2.ppf(q = 0.5, df = k)\n"
   ]
  },
  {
   "cell_type": "markdown",
   "metadata": {},
   "source": [
    "## 2) Распределение Стьюдента"
   ]
  },
  {
   "cell_type": "markdown",
   "metadata": {},
   "source": [
    "### Информация: https://docs.scipy.org/doc/scipy/reference/generated/scipy.stats.t.html"
   ]
  },
  {
   "cell_type": "code",
   "execution_count": 6,
   "metadata": {
    "scrolled": false
   },
   "outputs": [
    {
     "data": {
      "text/plain": [
       "0.2671808657039658"
      ]
     },
     "execution_count": 6,
     "metadata": {},
     "output_type": "execute_result"
    }
   ],
   "source": [
    "k = 5                                                # число степеней свободы\n",
    "t.cdf(0.7, df = k)                                   # F(0.7) = P(X <= 0.7)    - функция распределения в точке 0.7\n",
    "t.pdf(0.7, df = k)                                   # f(0.7) = F'(0.7)        - функция плотности в точке 0.7\n",
    "t.mean(df = k)                                       # E(X)                    - математическое ожидание X\n",
    "t.var(df = k)                                        # Var(X)                  - дисперсия X\n",
    "t.median(df = k)                                     # Median(X)               - медиана X\n",
    "t.moment(n = 5, df = k)                              # E(X ^ 5)                - пятый (не центральный) момент X\n",
    "t.ppf(q = 0.6, df = k)                               # q: P(X < q) = 0.6       - квантиль уровня 0.6 с.в. X\n",
    "#t.rvs(size = 1000, df = 5)                            #                         - выборка объема 1000 из X\n"
   ]
  },
  {
   "cell_type": "markdown",
   "metadata": {},
   "source": [
    "## По мере увеличения числа степеней свободы распредедление Стьюдента стремится к стандартному нормальному"
   ]
  },
  {
   "cell_type": "code",
   "execution_count": 8,
   "metadata": {},
   "outputs": [
    {
     "name": "stdout",
     "output_type": "stream",
     "text": [
      "0.9772363696692823 0.9772498680518208\n"
     ]
    }
   ],
   "source": [
    "alpha = 2                                           # рассмотрим произвольную точку\n",
    "# убедимся, что функции распределения обоих распредедений в этой точке очень близки                            \n",
    "print(t.cdf(alpha, df = 10000) ,norm.cdf(alpha) )"
   ]
  },
  {
   "cell_type": "markdown",
   "metadata": {},
   "source": [
    "##  График функции плотности и  функции распределения"
   ]
  },
  {
   "cell_type": "code",
   "execution_count": 34,
   "metadata": {},
   "outputs": [
    {
     "data": {
      "image/png": "[encoded data removed]",
      "text/plain": [
       "<Figure size 432x288 with 1 Axes>"
      ]
     },
     "metadata": {
      "needs_background": "light"
     },
     "output_type": "display_data"
    }
   ],
   "source": [
    "k=8\n",
    "x = np.linspace(t.ppf(q = 0.001, df = k),            # точки, между которыми будет\n",
    "                t.ppf(q = 0.999, df = k),            # строиться график\n",
    "                100)                                 # количество точек (чем больше, тем больше детализация)\n",
    "f_x = t.pdf(x, df = k)                               # значение функции плотности в соответствующих точках\n",
    "F_x = t.cdf(x, df = k)                               # значение функции распределения в соответствующих точках\n",
    "plt.xlabel('x')                                       # название нижней оси графика\n",
    "plt.ylabel('f(x),F(x)')                                    # название верхней оси графика\n",
    "plt.plot(x,f_x)                                         # график функции плотности \n",
    "plt.plot(x,F_x)                                          # график функции распределения           \n",
    "plt.show();\n"
   ]
  },
  {
   "cell_type": "markdown",
   "metadata": {},
   "source": [
    "## 3) Распределение Фишера"
   ]
  },
  {
   "cell_type": "markdown",
   "metadata": {},
   "source": [
    "## Информация: https://docs.scipy.org/doc/scipy/reference/generated/scipy.stats.f.html¶"
   ]
  },
  {
   "cell_type": "code",
   "execution_count": 5,
   "metadata": {},
   "outputs": [
    {
     "data": {
      "text/plain": [
       "1.0"
      ]
     },
     "execution_count": 5,
     "metadata": {},
     "output_type": "execute_result"
    }
   ],
   "source": [
    "k1 = 5                                               # число степеней свободы\n",
    "k2 = 10\n",
    "f.cdf(0.7, dfn = k1, dfd = k2)                      # F(0.7) = P(X <= 0.7)    - функция распределения в точке 0.7\n",
    "f.pdf(0.7, dfn = k1, dfd = k2)                      # f(0.7) = F'(0.7)        - функция плотности в точке 0.7\n",
    "f.mean(dfn = k1, dfd = k2)                          # E(X)                    - математическое ожидание X\n",
    "f.var(dfn = k1, dfd = k2)                           # Var(X)                  - дисперсия X\n",
    "f.median(dfn = k1, dfd = k2)                        # Median(X)               - медиана X\n",
    "f.moment(n = 3, dfn = k1, dfd = k2)                 # E(X ^ 3)                - третий (не центральный) момент X\n",
    "f.ppf(q = 0.6, dfn = k1, dfd = k2)                  # q: P(X < q) = 0.6       - квантиль уровня 0.6 с.в. X\n",
    "#f.rvs(size = 1000, dfn = k1, dfd = k2)              #                         - выборка объема 1000 из X\n",
    "\n",
    "# Рассмотрим квантиль соответствующего уровня\n",
    "alpha = 0.7\n",
    "# Произведение соответствующих квантилей всегда\n",
    "# будет равняться единице (догадайтесь почему)\n",
    "f.ppf(q= 1 - alpha, dfn = k1, dfd = k2) * f.ppf(q = alpha, dfn = k2, dfd = k1)\n"
   ]
  },
  {
   "cell_type": "markdown",
   "metadata": {},
   "source": [
    "## График функции плотности и функции распределения"
   ]
  },
  {
   "cell_type": "code",
   "execution_count": 35,
   "metadata": {},
   "outputs": [
    {
     "data": {
      "image/png": "[encoded data removed]",
      "text/plain": [
       "<Figure size 432x288 with 1 Axes>"
      ]
     },
     "metadata": {
      "needs_background": "light"
     },
     "output_type": "display_data"
    }
   ],
   "source": [
    "k1=5\n",
    "k2=10\n",
    "x = np.linspace(f.ppf(q = 0.001,\n",
    "                      dfn = k1, dfd = k2),          # точки, между которыми будет\n",
    "                f.ppf(q = 0.999,                      # строиться график\n",
    "                      dfn = k1, dfd = k2),\n",
    "                100)                                 # количество точек (чем больше, тем больше детализация)\n",
    "f_x = f.pdf(x, dfn = k1, dfd = k2)                  # значение функции плотности в соответствующих точках\n",
    "F_x = f.cdf(x, dfn = k1, dfd = k2)                  # значение функции распределения в соответствующих точках\n",
    "plt.xlabel('x')                                       # название нижней оси графика\n",
    "plt.ylabel('f(x),F(x)')                                    # название верхней оси графика\n",
    "plt.plot(x,f_x)                                         # график функции плотности \n",
    "plt.plot(x,F_x)                                          # график функции распределения           \n",
    "plt.show();"
   ]
  },
  {
   "cell_type": "code",
   "execution_count": null,
   "metadata": {},
   "outputs": [],
   "source": [
    "# Задания\n",
    "# 1. Случайная величина X имеет Хи-квадрат распредедение\n",
    "#    с 10-ю степенями свободы\n",
    "#    Рассчитайте:\n",
    "#    1)     P(X <= 1.5)\n",
    "#    2)     P(X > 1.5)\n",
    "#    3)     P(1.5 <= X <= 2)\n",
    "#    4)     E(X), Var(X), Median(X)\n",
    "#    7)     Квантиль уровня 0.1\n",
    "#    \n",
    "# 2. Повторите предыдущее задание предполагая, что:\n",
    "#    1)     X имеет распределение Стьюдента с 10\n",
    "#           степенями свободы\n",
    "#    2)     X имеет распределение Фишера с 10 и 8\n",
    "#           степенями свободы"
   ]
  }
 ],
 "metadata": {
  "kernelspec": {
   "display_name": "Python 3",
   "language": "python",
   "name": "python3"
  },
  "language_info": {
   "codemirror_mode": {
    "name": "ipython",
    "version": 3
   },
   "file_extension": ".py",
   "mimetype": "text/x-python",
   "name": "python",
   "nbconvert_exporter": "python",
   "pygments_lexer": "ipython3",
   "version": "3.7.6"
  }
 },
 "nbformat": 4,
 "nbformat_minor": 4
}
